{
 "cells": [
  {
   "cell_type": "markdown",
   "id": "4eb48ca3-1465-4cf9-9399-121aebdfd35c",
   "metadata": {},
   "source": [
    "## Hearing_Test Classification Based On Age And Physical_Score\n"
   ]
  },
  {
   "cell_type": "markdown",
   "id": "75345262-9f65-476b-8650-9a30f3b5b496",
   "metadata": {},
   "source": [
    "### This dataset was gotten from Kaggle.com, there is no stated author but documentatio shows that it was originally a Google search synthetic dataset used to perform logistic regression problem to identify if a person has hearing loss or not based on thier age and physical_score. this dataset consist of two independent variables and one dependent variable. "
   ]
  },
  {
   "cell_type": "code",
   "execution_count": 293,
   "id": "d48b7672-0dcc-4cd2-96ea-33b270d8e8f3",
   "metadata": {},
   "outputs": [],
   "source": [
    "import pandas as pd"
   ]
  },
  {
   "cell_type": "code",
   "execution_count": 295,
   "id": "50cecac1-5ff5-4df5-a3e3-a93d7302ca7d",
   "metadata": {},
   "outputs": [],
   "source": [
    "data = pd.read_csv(r\"hearing_test.csv\") # this was used to read the file into jupyter notebook"
   ]
  },
  {
   "cell_type": "code",
   "execution_count": 297,
   "id": "171e69f7-c9b5-4e97-846c-b2c954f3e69e",
   "metadata": {
    "scrolled": true
   },
   "outputs": [
    {
     "data": {
      "text/html": [
       "<div>\n",
       "<style scoped>\n",
       "    .dataframe tbody tr th:only-of-type {\n",
       "        vertical-align: middle;\n",
       "    }\n",
       "\n",
       "    .dataframe tbody tr th {\n",
       "        vertical-align: top;\n",
       "    }\n",
       "\n",
       "    .dataframe thead th {\n",
       "        text-align: right;\n",
       "    }\n",
       "</style>\n",
       "<table border=\"1\" class=\"dataframe\">\n",
       "  <thead>\n",
       "    <tr style=\"text-align: right;\">\n",
       "      <th></th>\n",
       "      <th>age</th>\n",
       "      <th>physical_score</th>\n",
       "      <th>test_result</th>\n",
       "    </tr>\n",
       "  </thead>\n",
       "  <tbody>\n",
       "    <tr>\n",
       "      <th>0</th>\n",
       "      <td>33.0</td>\n",
       "      <td>40.7</td>\n",
       "      <td>1</td>\n",
       "    </tr>\n",
       "    <tr>\n",
       "      <th>1</th>\n",
       "      <td>50.0</td>\n",
       "      <td>37.2</td>\n",
       "      <td>1</td>\n",
       "    </tr>\n",
       "    <tr>\n",
       "      <th>2</th>\n",
       "      <td>52.0</td>\n",
       "      <td>24.7</td>\n",
       "      <td>0</td>\n",
       "    </tr>\n",
       "    <tr>\n",
       "      <th>3</th>\n",
       "      <td>56.0</td>\n",
       "      <td>31.0</td>\n",
       "      <td>0</td>\n",
       "    </tr>\n",
       "    <tr>\n",
       "      <th>4</th>\n",
       "      <td>35.0</td>\n",
       "      <td>42.9</td>\n",
       "      <td>1</td>\n",
       "    </tr>\n",
       "  </tbody>\n",
       "</table>\n",
       "</div>"
      ],
      "text/plain": [
       "    age  physical_score  test_result\n",
       "0  33.0            40.7            1\n",
       "1  50.0            37.2            1\n",
       "2  52.0            24.7            0\n",
       "3  56.0            31.0            0\n",
       "4  35.0            42.9            1"
      ]
     },
     "execution_count": 297,
     "metadata": {},
     "output_type": "execute_result"
    }
   ],
   "source": [
    "data.head() # here is a sneak pip into waht the dataset looks like by loading the first five data on the dataset"
   ]
  },
  {
   "cell_type": "markdown",
   "id": "3b22de92-cf8c-4230-ad13-b4429bcc1c04",
   "metadata": {},
   "source": [
    "## Data Cleaning And Preprocessing"
   ]
  },
  {
   "cell_type": "markdown",
   "id": "d602aae1-0457-4271-bb1a-960b857a1455",
   "metadata": {},
   "source": [
    "### Upon physically examination of the dataset, i could see that just as stated in kaggle.com, it's an already cleaned and preprocessed data  but to fulfill the requirement of this assignment i am going to verfy this using the following steps."
   ]
  },
  {
   "cell_type": "code",
   "execution_count": 301,
   "id": "de9deb0f-cad9-493c-b170-ae53fe683fc2",
   "metadata": {},
   "outputs": [
    {
     "name": "stdout",
     "output_type": "stream",
     "text": [
      "<class 'pandas.core.frame.DataFrame'>\n",
      "RangeIndex: 5000 entries, 0 to 4999\n",
      "Data columns (total 3 columns):\n",
      " #   Column          Non-Null Count  Dtype  \n",
      "---  ------          --------------  -----  \n",
      " 0   age             5000 non-null   float64\n",
      " 1   physical_score  5000 non-null   float64\n",
      " 2   test_result     5000 non-null   int64  \n",
      "dtypes: float64(2), int64(1)\n",
      "memory usage: 117.3 KB\n"
     ]
    }
   ],
   "source": [
    "data.info() # this shows the information of the dataset, including its data type, which is float and integer."
   ]
  },
  {
   "cell_type": "code",
   "execution_count": 303,
   "id": "06502c85-49c4-4b0c-b444-fc275f4ba7d1",
   "metadata": {},
   "outputs": [
    {
     "data": {
      "text/plain": [
       "(5000, 3)"
      ]
     },
     "execution_count": 303,
     "metadata": {},
     "output_type": "execute_result"
    }
   ],
   "source": [
    "data.shape # this shows that the dataset contains 5000 rows and 3 columns"
   ]
  },
  {
   "cell_type": "code",
   "execution_count": 305,
   "id": "65c7fd3e-be5a-412e-8836-38544bb1c7e3",
   "metadata": {},
   "outputs": [
    {
     "data": {
      "text/plain": [
       "age               0\n",
       "physical_score    0\n",
       "test_result       0\n",
       "dtype: int64"
      ]
     },
     "execution_count": 305,
     "metadata": {},
     "output_type": "execute_result"
    }
   ],
   "source": [
    "data.isna().sum() # this verifies that there are no missing values in the dataset"
   ]
  },
  {
   "cell_type": "code",
   "execution_count": 309,
   "id": "f181b6e5-8046-490b-b287-cb09c0b54c4a",
   "metadata": {},
   "outputs": [
    {
     "data": {
      "text/plain": [
       "0       False\n",
       "1       False\n",
       "2       False\n",
       "3       False\n",
       "4       False\n",
       "        ...  \n",
       "4995    False\n",
       "4996    False\n",
       "4997     True\n",
       "4998    False\n",
       "4999     True\n",
       "Length: 5000, dtype: bool"
      ]
     },
     "execution_count": 309,
     "metadata": {},
     "output_type": "execute_result"
    }
   ],
   "source": [
    "data.duplicated() # this code checks for duplicate and as shown below some duplicates exist. I will handle this by removing the duplicates."
   ]
  },
  {
   "cell_type": "code",
   "execution_count": 311,
   "id": "32f78cad-3818-4227-82a4-3530bbaa2fa8",
   "metadata": {},
   "outputs": [
    {
     "data": {
      "text/plain": [
       "1470"
      ]
     },
     "execution_count": 311,
     "metadata": {},
     "output_type": "execute_result"
    }
   ],
   "source": [
    "data.duplicated().sum() # this show the total number of duplicates"
   ]
  },
  {
   "cell_type": "code",
   "execution_count": 313,
   "id": "1664028c-0561-4e8e-9b04-69d5c4d31264",
   "metadata": {},
   "outputs": [],
   "source": [
    "data = data.drop_duplicates(keep=False) # to ensure no duplicate exist."
   ]
  },
  {
   "cell_type": "code",
   "execution_count": 315,
   "id": "932c49a1-9959-4e0c-834e-f1f7014097c7",
   "metadata": {},
   "outputs": [
    {
     "data": {
      "text/plain": [
       "0"
      ]
     },
     "execution_count": 315,
     "metadata": {},
     "output_type": "execute_result"
    }
   ],
   "source": [
    "data.duplicated().sum()# after removing the duplicate above, this further shows no duplicate exist in the dataset"
   ]
  },
  {
   "cell_type": "code",
   "execution_count": 317,
   "id": "36ed7e1d-aca4-472a-abf3-e58c0e2fd033",
   "metadata": {},
   "outputs": [
    {
     "data": {
      "text/plain": [
       "(2600, 3)"
      ]
     },
     "execution_count": 317,
     "metadata": {},
     "output_type": "execute_result"
    }
   ],
   "source": [
    "data.shape # with the total number of duplicates removed was about 1470 reducing the dataset to 2600"
   ]
  },
  {
   "cell_type": "code",
   "execution_count": 319,
   "id": "de18ced4-9ad9-44b5-9d20-10ea44e539e5",
   "metadata": {},
   "outputs": [],
   "source": [
    "#data.head() showed that age is in a decimal form, which is not right. \n",
    "# to correct this, I am going to change the value of age from a continuous number to a discrete number."
   ]
  },
  {
   "cell_type": "code",
   "execution_count": 321,
   "id": "abb2e05d-09ad-4f80-89dc-8f20ac851c49",
   "metadata": {},
   "outputs": [],
   "source": [
    "data['age'] = data['age'].round().astype(int)\n"
   ]
  },
  {
   "cell_type": "code",
   "execution_count": 323,
   "id": "0f04f799-fd16-4f74-bbe4-292e59609c5c",
   "metadata": {},
   "outputs": [
    {
     "data": {
      "text/html": [
       "<div>\n",
       "<style scoped>\n",
       "    .dataframe tbody tr th:only-of-type {\n",
       "        vertical-align: middle;\n",
       "    }\n",
       "\n",
       "    .dataframe tbody tr th {\n",
       "        vertical-align: top;\n",
       "    }\n",
       "\n",
       "    .dataframe thead th {\n",
       "        text-align: right;\n",
       "    }\n",
       "</style>\n",
       "<table border=\"1\" class=\"dataframe\">\n",
       "  <thead>\n",
       "    <tr style=\"text-align: right;\">\n",
       "      <th></th>\n",
       "      <th>age</th>\n",
       "      <th>physical_score</th>\n",
       "      <th>test_result</th>\n",
       "    </tr>\n",
       "  </thead>\n",
       "  <tbody>\n",
       "    <tr>\n",
       "      <th>2</th>\n",
       "      <td>52</td>\n",
       "      <td>24.7</td>\n",
       "      <td>0</td>\n",
       "    </tr>\n",
       "    <tr>\n",
       "      <th>3</th>\n",
       "      <td>56</td>\n",
       "      <td>31.0</td>\n",
       "      <td>0</td>\n",
       "    </tr>\n",
       "    <tr>\n",
       "      <th>4</th>\n",
       "      <td>35</td>\n",
       "      <td>42.9</td>\n",
       "      <td>1</td>\n",
       "    </tr>\n",
       "    <tr>\n",
       "      <th>5</th>\n",
       "      <td>58</td>\n",
       "      <td>23.0</td>\n",
       "      <td>0</td>\n",
       "    </tr>\n",
       "    <tr>\n",
       "      <th>6</th>\n",
       "      <td>66</td>\n",
       "      <td>28.9</td>\n",
       "      <td>0</td>\n",
       "    </tr>\n",
       "  </tbody>\n",
       "</table>\n",
       "</div>"
      ],
      "text/plain": [
       "   age  physical_score  test_result\n",
       "2   52            24.7            0\n",
       "3   56            31.0            0\n",
       "4   35            42.9            1\n",
       "5   58            23.0            0\n",
       "6   66            28.9            0"
      ]
     },
     "execution_count": 323,
     "metadata": {},
     "output_type": "execute_result"
    }
   ],
   "source": [
    "data.head()"
   ]
  },
  {
   "cell_type": "code",
   "execution_count": 325,
   "id": "14580225-4988-418a-b033-c6926c00403c",
   "metadata": {},
   "outputs": [
    {
     "data": {
      "text/html": [
       "<div>\n",
       "<style scoped>\n",
       "    .dataframe tbody tr th:only-of-type {\n",
       "        vertical-align: middle;\n",
       "    }\n",
       "\n",
       "    .dataframe tbody tr th {\n",
       "        vertical-align: top;\n",
       "    }\n",
       "\n",
       "    .dataframe thead th {\n",
       "        text-align: right;\n",
       "    }\n",
       "</style>\n",
       "<table border=\"1\" class=\"dataframe\">\n",
       "  <thead>\n",
       "    <tr style=\"text-align: right;\">\n",
       "      <th></th>\n",
       "      <th>age</th>\n",
       "      <th>physical_score</th>\n",
       "      <th>test_result</th>\n",
       "    </tr>\n",
       "  </thead>\n",
       "  <tbody>\n",
       "    <tr>\n",
       "      <th>count</th>\n",
       "      <td>2600.000000</td>\n",
       "      <td>2600.000000</td>\n",
       "      <td>2600.000000</td>\n",
       "    </tr>\n",
       "    <tr>\n",
       "      <th>mean</th>\n",
       "      <td>54.777692</td>\n",
       "      <td>30.167654</td>\n",
       "      <td>0.405385</td>\n",
       "    </tr>\n",
       "    <tr>\n",
       "      <th>std</th>\n",
       "      <td>12.254570</td>\n",
       "      <td>8.911397</td>\n",
       "      <td>0.491061</td>\n",
       "    </tr>\n",
       "    <tr>\n",
       "      <th>min</th>\n",
       "      <td>18.000000</td>\n",
       "      <td>-0.000000</td>\n",
       "      <td>0.000000</td>\n",
       "    </tr>\n",
       "    <tr>\n",
       "      <th>25%</th>\n",
       "      <td>47.000000</td>\n",
       "      <td>23.400000</td>\n",
       "      <td>0.000000</td>\n",
       "    </tr>\n",
       "    <tr>\n",
       "      <th>50%</th>\n",
       "      <td>56.000000</td>\n",
       "      <td>31.200000</td>\n",
       "      <td>0.000000</td>\n",
       "    </tr>\n",
       "    <tr>\n",
       "      <th>75%</th>\n",
       "      <td>63.000000</td>\n",
       "      <td>37.000000</td>\n",
       "      <td>1.000000</td>\n",
       "    </tr>\n",
       "    <tr>\n",
       "      <th>max</th>\n",
       "      <td>90.000000</td>\n",
       "      <td>50.000000</td>\n",
       "      <td>1.000000</td>\n",
       "    </tr>\n",
       "  </tbody>\n",
       "</table>\n",
       "</div>"
      ],
      "text/plain": [
       "               age  physical_score  test_result\n",
       "count  2600.000000     2600.000000  2600.000000\n",
       "mean     54.777692       30.167654     0.405385\n",
       "std      12.254570        8.911397     0.491061\n",
       "min      18.000000       -0.000000     0.000000\n",
       "25%      47.000000       23.400000     0.000000\n",
       "50%      56.000000       31.200000     0.000000\n",
       "75%      63.000000       37.000000     1.000000\n",
       "max      90.000000       50.000000     1.000000"
      ]
     },
     "execution_count": 325,
     "metadata": {},
     "output_type": "execute_result"
    }
   ],
   "source": [
    "data.describe()"
   ]
  },
  {
   "cell_type": "markdown",
   "id": "6368017b-cabc-4b7e-bf68-9c69d21e915a",
   "metadata": {},
   "source": [
    "## Exploratory Data Analysis"
   ]
  },
  {
   "cell_type": "markdown",
   "id": "c3b5b902-5ca4-4213-b392-132a65740d78",
   "metadata": {},
   "source": [
    "### I visually explored the dataset to learn more about the data, also to see things like the distribution, outliers, for more interpretability"
   ]
  },
  {
   "cell_type": "code",
   "execution_count": 329,
   "id": "79b0676e-14f5-4908-bf96-733f8c0e5a34",
   "metadata": {},
   "outputs": [],
   "source": [
    "import matplotlib.pyplot as plt\n",
    "import numpy as np\n"
   ]
  },
  {
   "cell_type": "code",
   "execution_count": 331,
   "id": "f0bf68bb-dc6e-41ec-929c-21f8c854e257",
   "metadata": {},
   "outputs": [
    {
     "data": {
      "image/png": "[encoded data removed]",
      "text/plain": [
       "<Figure size 640x480 with 1 Axes>"
      ]
     },
     "metadata": {},
     "output_type": "display_data"
    }
   ],
   "source": [
    "\n",
    "plt.hist([data[\"age\"], data[\"physical_score\"]], bins=20, edgecolor=\"black\", label=[\"Age\", \"Physical Score\"], alpha=0.7)\n",
    "plt.xlabel(\"Value\")\n",
    "plt.ylabel(\"Frequency\")\n",
    "plt.title(\"Distribution of Age and Physical Score\")\n",
    "plt.legend()\n",
    "plt.show()\n",
    "\n"
   ]
  },
  {
   "cell_type": "markdown",
   "id": "2c0853ec-4b77-41b9-a0c4-4ecc4f860b87",
   "metadata": {},
   "source": [
    "### The histogram illustrates the distribution of age and physical score, revealing that age follows a broader spread with a peak around 40-60, while physical score is more concentrated at lower values, peaking around 20-30, with noticeable overlap, suggesting a potential relationship between the two variables.\n",
    "\n",
    "\n",
    "\n",
    "\n",
    "\n",
    "\n",
    "\n"
   ]
  },
  {
   "cell_type": "code",
   "execution_count": 334,
   "id": "d9eaec59-bb35-4a72-bfe9-0aae6d68b450",
   "metadata": {},
   "outputs": [],
   "source": [
    "data2 =data[[\"age\",\"physical_score\"]]"
   ]
  },
  {
   "cell_type": "code",
   "execution_count": 336,
   "id": "f871ead0-3e2a-495a-ae38-9c815a64d35c",
   "metadata": {},
   "outputs": [
    {
     "data": {
      "image/png": "[encoded data removed]",
      "text/plain": [
       "<Figure size 640x480 with 1 Axes>"
      ]
     },
     "metadata": {},
     "output_type": "display_data"
    }
   ],
   "source": [
    "plt.boxplot(data2)\n",
    "# Add title and labels\n",
    "plt.title(\"Boxplot of the data\")\n",
    "plt.xlabel(\"physical_score\")\n",
    "plt.ylabel(\"age\")\n",
    "\n",
    "# Show the plot\n",
    "plt.show()"
   ]
  },
  {
   "cell_type": "markdown",
   "id": "9ce9b5c4-dc1b-4454-b8b9-6035799919ee",
   "metadata": {},
   "source": [
    "### The boxplot above shows the age distribution across two physical_score categories (1 and 2). The X-axis represents physical_score, while the Y-axis represents age (0–90). Each box captures the IQR (25th–75th percentile), with the median (orange line) inside. Whiskers extend to non-outlier min/max values, and outliers (small circles) indicate extreme values. For physical_score 1, the median age is approximately 50, with a wider age range (20–80) and several outliers. For physical_score 2, the median age is approximately 30, with a more compact distribution and a few outliers below 20."
   ]
  },
  {
   "cell_type": "markdown",
   "id": "3849baf0-84ae-407a-8e87-8767ad8b586e",
   "metadata": {},
   "source": [
    "### I handled feature sclaing(\"age\") by making sure it is discrete number as supposed to contionus number that was it former state, this data does not require any form of normalisation, standardization, or dimentionality reduction as all the features are nessecary for solving the classification problem, same thing for feature selection and the data already came in an encoded format. "
   ]
  },
  {
   "cell_type": "markdown",
   "id": "4255a8d5-ca6b-4b42-b739-de27df32ee53",
   "metadata": {},
   "source": [
    "## Potential Limitation Of The Data"
   ]
  },
  {
   "cell_type": "markdown",
   "id": "050fbd84-a412-4ec1-9190-76cd29734fff",
   "metadata": {},
   "source": [
    "### The major limitation of the data is that it was simulated( a synthetic dataset), and had too many duplicate data about 1400. it will be good to try these classification model on a real world dataset."
   ]
  },
  {
   "cell_type": "markdown",
   "id": "0be52b42-4c92-45d5-b112-94d76313c702",
   "metadata": {},
   "source": [
    "# Machine  Learning Model Building"
   ]
  },
  {
   "cell_type": "markdown",
   "id": "89c48b20-7311-40a7-9d7a-06bd5aabc366",
   "metadata": {},
   "source": [
    "### I am going to be building the following ML models(algorithms)\n",
    "1) Naive Bayes\n",
    "2) linear Discriminant Analysis\n",
    "3) Ridge Classifier\n",
    "4) Voting Classifier\n",
    "5) Bagging Classifier"
   ]
  },
  {
   "cell_type": "code",
   "execution_count": 344,
   "id": "881cc0d3-7825-4ca8-8a79-890c274cb4d0",
   "metadata": {},
   "outputs": [],
   "source": [
    "from sklearn.model_selection import train_test_split\n",
    "from sklearn.preprocessing import StandardScaler\n",
    "from sklearn.naive_bayes import GaussianNB\n",
    "from sklearn.discriminant_analysis import LinearDiscriminantAnalysis\n",
    "from sklearn.linear_model import RidgeClassifier\n",
    "from sklearn.ensemble import VotingClassifier, BaggingClassifier\n",
    "from sklearn.metrics import accuracy_score\n"
   ]
  },
  {
   "cell_type": "markdown",
   "id": "ecb15ece-c31a-4505-95c0-5ff69603e8ec",
   "metadata": {},
   "source": [
    "# Load and prepare the data"
   ]
  },
  {
   "cell_type": "code",
   "execution_count": 347,
   "id": "56491c25-5a40-4d01-aeac-5dbbb63341f0",
   "metadata": {},
   "outputs": [],
   "source": [
    "X = data[[\"age\", \"physical_score\"]]  # Feature selection\n",
    "y = data[\"test_result\"]  # Target variable\n",
    "\n",
    "# Split into training and testing sets\n",
    "X_train, X_test, y_train, y_test = train_test_split(X, y, test_size=0.2, random_state=42)\n",
    "\n",
    "# Standardize the features (not needed for Naive Bayes but useful for other models)\n",
    "scaler = StandardScaler()\n",
    "X_train = scaler.fit_transform(X_train)\n",
    "X_test = scaler.transform(X_test)\n"
   ]
  },
  {
   "cell_type": "markdown",
   "id": "b28c595e-9dc7-465c-aefd-9abff25a9ab0",
   "metadata": {},
   "source": [
    "# Training the individual models"
   ]
  },
  {
   "cell_type": "markdown",
   "id": "0b0582f5-2ce5-44d5-a362-708c5ec4ebec",
   "metadata": {},
   "source": [
    "### Naive Bayes"
   ]
  },
  {
   "cell_type": "code",
   "execution_count": 351,
   "id": "3dff2d21-0c14-4bb1-884e-5c39208a8d41",
   "metadata": {},
   "outputs": [
    {
     "name": "stdout",
     "output_type": "stream",
     "text": [
      "Naive Bayes Accuracy: 0.8442307692307692\n"
     ]
    }
   ],
   "source": [
    "from sklearn.naive_bayes import GaussianNB\n",
    "naive_bayes_model = GaussianNB()\n",
    "naive_bayes_model.fit(X_train, y_train)\n",
    "nb_model = GaussianNB()\n",
    "nb_model.fit(X_train, y_train)\n",
    "nb_pred = nb_model.predict(X_test)\n",
    "print(\"Naive Bayes Accuracy:\", accuracy_score(y_test, nb_pred))"
   ]
  },
  {
   "cell_type": "markdown",
   "id": "3d311c7e-7bdd-433d-b5c7-0045b728e4b2",
   "metadata": {},
   "source": [
    "### Linear Discriminant Analysis (LDA)"
   ]
  },
  {
   "cell_type": "code",
   "execution_count": 354,
   "id": "3a0cc471-b873-4286-83e0-813a5895cf70",
   "metadata": {},
   "outputs": [
    {
     "name": "stdout",
     "output_type": "stream",
     "text": [
      "LDA Accuracy: 0.8423076923076923\n"
     ]
    }
   ],
   "source": [
    "lda_model = LinearDiscriminantAnalysis()\n",
    "lda_model.fit(X_train, y_train)\n",
    "lda_pred = lda_model.predict(X_test)\n",
    "print(\"LDA Accuracy:\", accuracy_score(y_test, lda_pred))"
   ]
  },
  {
   "cell_type": "markdown",
   "id": "00d2da88-46ec-4591-950a-2419da819996",
   "metadata": {},
   "source": [
    "### Ridge Classifier\n"
   ]
  },
  {
   "cell_type": "code",
   "execution_count": 357,
   "id": "79a02a01-4837-4084-ae5e-89e2522a207b",
   "metadata": {},
   "outputs": [
    {
     "name": "stdout",
     "output_type": "stream",
     "text": [
      "Ridge Classifier Accuracy: 0.8423076923076923\n"
     ]
    }
   ],
   "source": [
    "ridge_model = RidgeClassifier()\n",
    "ridge_model.fit(X_train, y_train)\n",
    "ridge_pred = ridge_model.predict(X_test)\n",
    "print(\"Ridge Classifier Accuracy:\", accuracy_score(y_test, ridge_pred))\n"
   ]
  },
  {
   "cell_type": "markdown",
   "id": "a6ed8f4b-662e-4e62-8ba8-eea0ebd8c8e5",
   "metadata": {},
   "source": [
    "### Voting Classifier (Combining Multiple Models)"
   ]
  },
  {
   "cell_type": "code",
   "execution_count": 360,
   "id": "e97d46df-a02d-4fac-8a05-c71eea49ed67",
   "metadata": {},
   "outputs": [
    {
     "name": "stdout",
     "output_type": "stream",
     "text": [
      "Voting Classifier Accuracy: 0.8423076923076923\n"
     ]
    }
   ],
   "source": [
    "voting_model = VotingClassifier(estimators=[\n",
    "    ('Naive Bayes', nb_model),\n",
    "    ('LDA', lda_model),\n",
    "    ('Ridge', ridge_model)\n",
    "], voting='hard')\n",
    "\n",
    "voting_model.fit(X_train, y_train)\n",
    "voting_pred = voting_model.predict(X_test)\n",
    "print(\"Voting Classifier Accuracy:\", accuracy_score(y_test, voting_pred))\n"
   ]
  },
  {
   "cell_type": "markdown",
   "id": "89bec5e6-7d76-4cb0-b8a0-5f1e16b5597c",
   "metadata": {},
   "source": [
    "### Bagging Classifier (Using Ridge Classifier as Base Estimator)"
   ]
  },
  {
   "cell_type": "raw",
   "id": "a823ef98-1946-4e18-baf5-9d2507785429",
   "metadata": {},
   "source": [
    "bagging_model = BaggingClassifier(estimator=nb_model)  \n",
    "bagging_model.fit(X_train, y_train)\n",
    "bagging_pred = bagging_model.predict(X_test)\n",
    "\n"
   ]
  },
  {
   "cell_type": "markdown",
   "id": "9f257ef7-49f2-46ba-85b3-4001a9c3e95f",
   "metadata": {},
   "source": [
    "\n",
    "### After training the model, i proceeded to deploy the models using Flask and FastAPI"
   ]
  },
  {
   "cell_type": "code",
   "execution_count": 1,
   "id": "49e55456-3409-4922-95b3-79f5182d2d25",
   "metadata": {},
   "outputs": [
    {
     "name": "stdout",
     "output_type": "stream",
     "text": [
      "Requirement already satisfied: flask in c:\\users\\asus\\anaconda3\\lib\\site-packages (2.2.5)Note: you may need to restart the kernel to use updated packages.\n",
      "\n",
      "Requirement already satisfied: Werkzeug>=2.2.2 in c:\\users\\asus\\anaconda3\\lib\\site-packages (from flask) (2.2.3)\n",
      "Requirement already satisfied: Jinja2>=3.0 in c:\\users\\asus\\anaconda3\\lib\\site-packages (from flask) (3.1.3)\n",
      "Requirement already satisfied: itsdangerous>=2.0 in c:\\users\\asus\\anaconda3\\lib\\site-packages (from flask) (2.0.1)\n",
      "Requirement already satisfied: click>=8.0 in c:\\users\\asus\\anaconda3\\lib\\site-packages (from flask) (8.1.7)\n",
      "Requirement already satisfied: colorama in c:\\users\\asus\\anaconda3\\lib\\site-packages (from click>=8.0->flask) (0.4.6)\n",
      "Requirement already satisfied: MarkupSafe>=2.0 in c:\\users\\asus\\anaconda3\\lib\\site-packages (from Jinja2>=3.0->flask) (2.1.3)\n"
     ]
    }
   ],
   "source": [
    "pip install flask\n"
   ]
  },
  {
   "cell_type": "code",
   "execution_count": 3,
   "id": "a5ba48dc-67af-45ff-b0a3-3660ea2a6c99",
   "metadata": {},
   "outputs": [
    {
     "name": "stdout",
     "output_type": "stream",
     "text": [
      "Requirement already satisfied: fastapi in c:\\users\\asus\\anaconda3\\lib\\site-packages (0.115.11)\n",
      "Requirement already satisfied: starlette<0.47.0,>=0.40.0 in c:\\users\\asus\\anaconda3\\lib\\site-packages (from fastapi) (0.46.1)\n",
      "Requirement already satisfied: pydantic!=1.8,!=1.8.1,!=2.0.0,!=2.0.1,!=2.1.0,<3.0.0,>=1.7.4 in c:\\users\\asus\\anaconda3\\lib\\site-packages (from fastapi) (2.10.3)\n",
      "Requirement already satisfied: typing-extensions>=4.8.0 in c:\\users\\asus\\anaconda3\\lib\\site-packages (from fastapi) (4.12.2)\n",
      "Requirement already satisfied: annotated-types>=0.6.0 in c:\\users\\asus\\anaconda3\\lib\\site-packages (from pydantic!=1.8,!=1.8.1,!=2.0.0,!=2.0.1,!=2.1.0,<3.0.0,>=1.7.4->fastapi) (0.6.0)\n",
      "Requirement already satisfied: pydantic-core==2.27.1 in c:\\users\\asus\\anaconda3\\lib\\site-packages (from pydantic!=1.8,!=1.8.1,!=2.0.0,!=2.0.1,!=2.1.0,<3.0.0,>=1.7.4->fastapi) (2.27.1)\n",
      "Requirement already satisfied: anyio<5,>=3.6.2 in c:\\users\\asus\\anaconda3\\lib\\site-packages (from starlette<0.47.0,>=0.40.0->fastapi) (4.2.0)\n",
      "Requirement already satisfied: idna>=2.8 in c:\\users\\asus\\anaconda3\\lib\\site-packages (from anyio<5,>=3.6.2->starlette<0.47.0,>=0.40.0->fastapi) (3.4)\n",
      "Requirement already satisfied: sniffio>=1.1 in c:\\users\\asus\\anaconda3\\lib\\site-packages (from anyio<5,>=3.6.2->starlette<0.47.0,>=0.40.0->fastapi) (1.3.0)\n",
      "Note: you may need to restart the kernel to use updated packages.\n"
     ]
    }
   ],
   "source": [
    "pip install fastapi"
   ]
  },
  {
   "cell_type": "code",
   "execution_count": 7,
   "id": "30408f32-5f62-46c5-87f1-ddf3c36a628f",
   "metadata": {},
   "outputs": [],
   "source": [
    "from flask import Flask\n"
   ]
  },
  {
   "cell_type": "code",
   "execution_count": 9,
   "id": "9c540451-1865-4e31-900d-467409c3aee2",
   "metadata": {},
   "outputs": [
    {
     "name": "stdout",
     "output_type": "stream",
     "text": [
      "Requirement already satisfied: seaborn in c:\\users\\asus\\anaconda3\\lib\\site-packages (0.12.2)Note: you may need to restart the kernel to use updated packages.\n",
      "\n",
      "Requirement already satisfied: numpy!=1.24.0,>=1.17 in c:\\users\\asus\\anaconda3\\lib\\site-packages (from seaborn) (1.26.4)\n",
      "Requirement already satisfied: pandas>=0.25 in c:\\users\\asus\\anaconda3\\lib\\site-packages (from seaborn) (2.1.4)\n",
      "Requirement already satisfied: matplotlib!=3.6.1,>=3.1 in c:\\users\\asus\\anaconda3\\lib\\site-packages (from seaborn) (3.8.0)\n",
      "Requirement already satisfied: contourpy>=1.0.1 in c:\\users\\asus\\anaconda3\\lib\\site-packages (from matplotlib!=3.6.1,>=3.1->seaborn) (1.2.0)\n",
      "Requirement already satisfied: cycler>=0.10 in c:\\users\\asus\\anaconda3\\lib\\site-packages (from matplotlib!=3.6.1,>=3.1->seaborn) (0.11.0)\n",
      "Requirement already satisfied: fonttools>=4.22.0 in c:\\users\\asus\\anaconda3\\lib\\site-packages (from matplotlib!=3.6.1,>=3.1->seaborn) (4.25.0)\n",
      "Requirement already satisfied: kiwisolver>=1.0.1 in c:\\users\\asus\\anaconda3\\lib\\site-packages (from matplotlib!=3.6.1,>=3.1->seaborn) (1.4.4)\n",
      "Requirement already satisfied: packaging>=20.0 in c:\\users\\asus\\anaconda3\\lib\\site-packages (from matplotlib!=3.6.1,>=3.1->seaborn) (23.1)\n",
      "Requirement already satisfied: pillow>=6.2.0 in c:\\users\\asus\\anaconda3\\lib\\site-packages (from matplotlib!=3.6.1,>=3.1->seaborn) (10.2.0)\n",
      "Requirement already satisfied: pyparsing>=2.3.1 in c:\\users\\asus\\anaconda3\\lib\\site-packages (from matplotlib!=3.6.1,>=3.1->seaborn) (3.0.9)\n",
      "Requirement already satisfied: python-dateutil>=2.7 in c:\\users\\asus\\anaconda3\\lib\\site-packages (from matplotlib!=3.6.1,>=3.1->seaborn) (2.8.2)\n",
      "Requirement already satisfied: pytz>=2020.1 in c:\\users\\asus\\anaconda3\\lib\\site-packages (from pandas>=0.25->seaborn) (2023.3.post1)\n",
      "Requirement already satisfied: tzdata>=2022.1 in c:\\users\\asus\\anaconda3\\lib\\site-packages (from pandas>=0.25->seaborn) (2023.3)\n",
      "Requirement already satisfied: six>=1.5 in c:\\users\\asus\\anaconda3\\lib\\site-packages (from python-dateutil>=2.7->matplotlib!=3.6.1,>=3.1->seaborn) (1.16.0)\n"
     ]
    }
   ],
   "source": [
    "pip install seaborn\n"
   ]
  },
  {
   "cell_type": "code",
   "execution_count": null,
   "id": "36558c3e-5b8e-440b-a798-ff7755b46f42",
   "metadata": {},
   "outputs": [],
   "source": []
  }
 ],
 "metadata": {
  "kernelspec": {
   "display_name": "Python 3 (ipykernel)",
   "language": "python",
   "name": "python3"
  },
  "language_info": {
   "codemirror_mode": {
    "name": "ipython",
    "version": 3
   },
   "file_extension": ".py",
   "mimetype": "text/x-python",
   "name": "python",
   "nbconvert_exporter": "python",
   "pygments_lexer": "ipython3",
   "version": "3.11.7"
  }
 },
 "nbformat": 4,
 "nbformat_minor": 5
}
